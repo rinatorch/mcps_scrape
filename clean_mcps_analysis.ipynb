{
 "cells": [
  {
   "cell_type": "markdown",
   "id": "3c9a79fe",
   "metadata": {},
   "source": [
    "Hello, Python. I'm back and I'm going to use this notebook to clean up my code. \n",
    "\n",
    "A big thing I'm going to focus on here is iterating through specific pages."
   ]
  },
  {
   "cell_type": "code",
   "execution_count": null,
   "id": "7264a812",
   "metadata": {},
   "outputs": [],
   "source": [
    "#I'll start coding here."
   ]
  }
 ],
 "metadata": {
  "kernelspec": {
   "display_name": "Python 3 (ipykernel)",
   "language": "python",
   "name": "python3"
  },
  "language_info": {
   "codemirror_mode": {
    "name": "ipython",
    "version": 3
   },
   "file_extension": ".py",
   "mimetype": "text/x-python",
   "name": "python",
   "nbconvert_exporter": "python",
   "pygments_lexer": "ipython3",
   "version": "3.9.13"
  }
 },
 "nbformat": 4,
 "nbformat_minor": 5
}
