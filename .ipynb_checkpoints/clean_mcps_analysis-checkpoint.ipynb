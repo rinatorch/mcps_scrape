{
 "cells": [
  {
   "cell_type": "markdown",
   "id": "3196eb7f",
   "metadata": {},
   "source": [
    "Hello, Python. I'm back and I'm going to use this notebook to clean up my code. \n",
    "\n",
    "A big thing I'm going to focus on here is iterating through specific pages.\n",
    "\n",
    "First, I'll pull in the libraries as usual."
   ]
  },
  {
   "cell_type": "code",
   "execution_count": 1,
   "id": "31abbd3c",
   "metadata": {},
   "outputs": [],
   "source": [
    "import pdfplumber\n",
    "import pandas as pd\n",
    "import numpy as np\n",
    "from pathlib import Path\n",
    "import re\n",
    "import fitz\n",
    "from PyPDF2 import PdfFileReader, PdfFileWriter"
   ]
  },
  {
   "cell_type": "markdown",
   "id": "1509c2e3",
   "metadata": {},
   "source": [
    "Instead of throwing in all ten pdfs, I'm going to start small with three. I've extracted data from two of these already, but I want to try to improve my method."
   ]
  },
  {
   "cell_type": "code",
   "execution_count": 82,
   "id": "052e1860",
   "metadata": {},
   "outputs": [
    {
     "name": "stdout",
     "output_type": "stream",
     "text": [
      "['mcps2022.pdf', 'mcps2021.pdf', 'mcps2020.pdf', 'mcps2019.pdf', 'mcps2018.pdf']\n"
     ]
    }
   ],
   "source": [
    "pdf_path22 = \"mcps2022.pdf\"\n",
    "pdf22 = pdfplumber.open(pdf_path22)\n",
    "\n",
    "pdf_path21 = \"mcps2021.pdf\"\n",
    "pdf21 = pdfplumber.open(pdf_path21)\n",
    "\n",
    "pdf_path20 = \"mcps2020.pdf\"\n",
    "pdf20 = pdfplumber.open(pdf_path20)\n",
    "\n",
    "pdf_path19 = \"mcps2019.pdf\"\n",
    "pdf19 = pdfplumber.open(pdf_path19)\n",
    "\n",
    "pdf_path18 = \"mcps2018.pdf\"\n",
    "pdf18 = pdfplumber.open(pdf_path18)\n",
    "\n",
    "\n",
    "#Here, I create a list to see if we can iterate over them later.\n",
    "pdf_list = [\"mcps2022.pdf\", \"mcps2021.pdf\", \"mcps2020.pdf\", \"mcps2019.pdf\", \"mcps2018.pdf\"]\n",
    "\n",
    "print(pdf_list)"
   ]
  },
  {
   "cell_type": "markdown",
   "id": "ff2854b7",
   "metadata": {},
   "source": [
    "In the next function, I'm going to try to get just the pages of interest from each pdf."
   ]
  },
  {
   "cell_type": "code",
   "execution_count": 83,
   "id": "9f0852a8",
   "metadata": {},
   "outputs": [
    {
     "name": "stdout",
     "output_type": "stream",
     "text": [
      "[458, 459, 460]\n"
     ]
    }
   ],
   "source": [
    "pagelist = []\n",
    "# load document\n",
    "\n",
    "doc = fitz.open(r\"mcps2022.pdf\")\n",
    "\n",
    "# define keyterms\n",
    "String = 'Demographic Information'\n",
    "\n",
    "# get text, search for string and print count on page.\n",
    "for page in doc:\n",
    "    text = ''\n",
    "    text += page.get_text()\n",
    "    if len(re.findall(String, text)) > 0:\n",
    "        pagelist.append(page.number)       \n",
    "print(pagelist[:3])"
   ]
  },
  {
   "cell_type": "markdown",
   "id": "d9e3c0e8",
   "metadata": {},
   "source": [
    "I think the first three pages can get us elementary school data. Let's try running this for each doc."
   ]
  },
  {
   "cell_type": "code",
   "execution_count": 84,
   "id": "198cde9f",
   "metadata": {},
   "outputs": [
    {
     "name": "stdout",
     "output_type": "stream",
     "text": [
      "['mcps2022.pdf', 'mcps2021.pdf', 'mcps2020.pdf', 'mcps2019.pdf', 'mcps2018.pdf']\n",
      "Document('mcps2022.pdf')\n",
      "Document('mcps2021.pdf')\n",
      "Document('mcps2020.pdf')\n",
      "Document('mcps2019.pdf')\n",
      "Document('mcps2018.pdf')\n"
     ]
    }
   ],
   "source": [
    "print(pdf_list)\n",
    "pagelist = []\n",
    "\n",
    "def get_es_data(list_of_pdfs):\n",
    "    for each_pdf in (list_of_pdfs):\n",
    "        doc = fitz.open(f\"{each_pdf}\")\n",
    "        print(doc)\n",
    "\n",
    "get_es_data(pdf_list)\n",
    "\n",
    "#f\"Hello, {name}. You are {age}.\""
   ]
  },
  {
   "cell_type": "markdown",
   "id": "1e1e4f04",
   "metadata": {},
   "source": [
    "Baby steps. The code above gets us to open each pdf. Let's continue building on the function in the following block."
   ]
  },
  {
   "cell_type": "code",
   "execution_count": 85,
   "id": "40f40fa5",
   "metadata": {},
   "outputs": [
    {
     "name": "stdout",
     "output_type": "stream",
     "text": [
      "[458, 459, 460]\n",
      "[458, 459, 460]\n",
      "[458, 459, 460]\n",
      "[458, 459, 460]\n",
      "[458, 459, 460]\n",
      "[458, 459, 460]\n"
     ]
    }
   ],
   "source": [
    "String = 'Demographic Information'\n",
    "\n",
    "def get_es_data(list_of_pdfs):\n",
    "    for each_pdf in (list_of_pdfs):\n",
    "        doc = fitz.open(f\"{each_pdf}\")\n",
    "# get text, search for string and print count on page.\n",
    "        for page in doc:\n",
    "            text = ''\n",
    "            text += page.get_text()\n",
    "            if len(re.findall(String, text)) > 0:\n",
    "                pagelist.append(page.number)       \n",
    "        print(pagelist[:3])\n",
    "\n",
    "get_es_data(pdf_list)\n",
    "key_pages = (pagelist[:3])\n",
    "print(key_pages)"
   ]
  },
  {
   "cell_type": "markdown",
   "id": "d9a0ca0f",
   "metadata": {},
   "source": [
    "The code below extracts a single pdf into a subset based on page number."
   ]
  },
  {
   "cell_type": "code",
   "execution_count": 32,
   "id": "75333a27",
   "metadata": {},
   "outputs": [
    {
     "name": "stdout",
     "output_type": "stream",
     "text": [
      "<PyPDF2._reader.PdfFileReader object at 0x00000229B5D4BDC0>\n"
     ]
    }
   ],
   "source": [
    "pdf_file_path = 'mcps2020.pdf'\n",
    "file_base_name = pdf_file_path.replace('.pdf', '')\n",
    "\n",
    "pdf = PdfFileReader(pdf_file_path)\n",
    "print(pdf)\n",
    "pages = [458, 459, 460] # page 1, 3, 5\n",
    "pdfWriter = PdfFileWriter()\n",
    "\n",
    "for page_num in pages:\n",
    "    pdfWriter.addPage(pdf.getPage(page_num))\n",
    "\n",
    "with open('{0}_subset.pdf'.format(file_base_name), 'wb') as f:\n",
    "    pdfWriter.write(f)\n",
    "    f.close()"
   ]
  },
  {
   "cell_type": "markdown",
   "id": "834f1e99",
   "metadata": {},
   "source": [
    "Now, we're going to try to do this for each file, a for loop over each pdf.\n",
    "Note: the function below turns an error."
   ]
  },
  {
   "cell_type": "code",
   "execution_count": 77,
   "id": "94b249e3",
   "metadata": {},
   "outputs": [
    {
     "ename": "DependencyError",
     "evalue": "PyCryptodome is required for AES algorithm",
     "output_type": "error",
     "traceback": [
      "\u001b[1;31m-------------------------------------------------------------------------\u001b[0m",
      "\u001b[1;31mDependencyError\u001b[0m                         Traceback (most recent call last)",
      "Cell \u001b[1;32mIn[77], line 9\u001b[0m\n\u001b[0;32m      7\u001b[0m pdfWriter \u001b[38;5;241m=\u001b[39m PdfFileWriter()\n\u001b[0;32m      8\u001b[0m \u001b[38;5;28;01mfor\u001b[39;00m page_num \u001b[38;5;129;01min\u001b[39;00m pages:\n\u001b[1;32m----> 9\u001b[0m     pdfWriter\u001b[38;5;241m.\u001b[39maddPage(\u001b[43mpdf\u001b[49m\u001b[38;5;241;43m.\u001b[39;49m\u001b[43mgetPage\u001b[49m\u001b[43m(\u001b[49m\u001b[43mpage_num\u001b[49m\u001b[43m)\u001b[49m)\n\u001b[0;32m     10\u001b[0m \u001b[38;5;28;01mwith\u001b[39;00m \u001b[38;5;28mopen\u001b[39m(\u001b[38;5;124m'\u001b[39m\u001b[38;5;132;01m{each_pdf}\u001b[39;00m\u001b[38;5;124m_es.pdf\u001b[39m\u001b[38;5;124m'\u001b[39m\u001b[38;5;241m.\u001b[39mformat(file_base_name), \u001b[38;5;124m'\u001b[39m\u001b[38;5;124mwb\u001b[39m\u001b[38;5;124m'\u001b[39m) \u001b[38;5;28;01mas\u001b[39;00m f:\n\u001b[0;32m     11\u001b[0m     pdfWriter\u001b[38;5;241m.\u001b[39mwrite(f)\n",
      "File \u001b[1;32m~\\AppData\\Local\\Packages\\PythonSoftwareFoundation.Python.3.9_qbz5n2kfra8p0\\LocalCache\\local-packages\\Python39\\site-packages\\PyPDF2\\_reader.py:477\u001b[0m, in \u001b[0;36mPdfReader.getPage\u001b[1;34m(self, pageNumber)\u001b[0m\n\u001b[0;32m    469\u001b[0m \u001b[38;5;250m\u001b[39m\u001b[38;5;124;03m\"\"\"\u001b[39;00m\n\u001b[0;32m    470\u001b[0m \u001b[38;5;124;03m.. deprecated:: 1.28.0\u001b[39;00m\n\u001b[0;32m    471\u001b[0m \n\u001b[0;32m    472\u001b[0m \u001b[38;5;124;03m    Use :code:`reader.pages[page_number]` instead.\u001b[39;00m\n\u001b[0;32m    473\u001b[0m \u001b[38;5;124;03m\"\"\"\u001b[39;00m\n\u001b[0;32m    474\u001b[0m deprecate_with_replacement(\n\u001b[0;32m    475\u001b[0m     \u001b[38;5;124m\"\u001b[39m\u001b[38;5;124mreader.getPage(pageNumber)\u001b[39m\u001b[38;5;124m\"\u001b[39m, \u001b[38;5;124m\"\u001b[39m\u001b[38;5;124mreader.pages[page_number]\u001b[39m\u001b[38;5;124m\"\u001b[39m\n\u001b[0;32m    476\u001b[0m )\n\u001b[1;32m--> 477\u001b[0m \u001b[38;5;28;01mreturn\u001b[39;00m \u001b[38;5;28;43mself\u001b[39;49m\u001b[38;5;241;43m.\u001b[39;49m\u001b[43m_get_page\u001b[49m\u001b[43m(\u001b[49m\u001b[43mpageNumber\u001b[49m\u001b[43m)\u001b[49m\n",
      "File \u001b[1;32m~\\AppData\\Local\\Packages\\PythonSoftwareFoundation.Python.3.9_qbz5n2kfra8p0\\LocalCache\\local-packages\\Python39\\site-packages\\PyPDF2\\_reader.py:490\u001b[0m, in \u001b[0;36mPdfReader._get_page\u001b[1;34m(self, page_number)\u001b[0m\n\u001b[0;32m    487\u001b[0m \u001b[38;5;66;03m# ensure that we're not trying to access an encrypted PDF\u001b[39;00m\n\u001b[0;32m    488\u001b[0m \u001b[38;5;66;03m# assert not self.trailer.has_key(TK.ENCRYPT)\u001b[39;00m\n\u001b[0;32m    489\u001b[0m \u001b[38;5;28;01mif\u001b[39;00m \u001b[38;5;28mself\u001b[39m\u001b[38;5;241m.\u001b[39mflattened_pages \u001b[38;5;129;01mis\u001b[39;00m \u001b[38;5;28;01mNone\u001b[39;00m:\n\u001b[1;32m--> 490\u001b[0m     \u001b[38;5;28;43mself\u001b[39;49m\u001b[38;5;241;43m.\u001b[39;49m\u001b[43m_flatten\u001b[49m\u001b[43m(\u001b[49m\u001b[43m)\u001b[49m\n\u001b[0;32m    491\u001b[0m \u001b[38;5;28;01massert\u001b[39;00m \u001b[38;5;28mself\u001b[39m\u001b[38;5;241m.\u001b[39mflattened_pages \u001b[38;5;129;01mis\u001b[39;00m \u001b[38;5;129;01mnot\u001b[39;00m \u001b[38;5;28;01mNone\u001b[39;00m, \u001b[38;5;124m\"\u001b[39m\u001b[38;5;124mhint for mypy\u001b[39m\u001b[38;5;124m\"\u001b[39m\n\u001b[0;32m    492\u001b[0m \u001b[38;5;28;01mreturn\u001b[39;00m \u001b[38;5;28mself\u001b[39m\u001b[38;5;241m.\u001b[39mflattened_pages[page_number]\n",
      "File \u001b[1;32m~\\AppData\\Local\\Packages\\PythonSoftwareFoundation.Python.3.9_qbz5n2kfra8p0\\LocalCache\\local-packages\\Python39\\site-packages\\PyPDF2\\_reader.py:1098\u001b[0m, in \u001b[0;36mPdfReader._flatten\u001b[1;34m(self, pages, inherit, indirect_reference)\u001b[0m\n\u001b[0;32m   1094\u001b[0m \u001b[38;5;28;01mif\u001b[39;00m pages \u001b[38;5;129;01mis\u001b[39;00m \u001b[38;5;28;01mNone\u001b[39;00m:\n\u001b[0;32m   1095\u001b[0m     \u001b[38;5;66;03m# Fix issue 327: set flattened_pages attribute only for\u001b[39;00m\n\u001b[0;32m   1096\u001b[0m     \u001b[38;5;66;03m# decrypted file\u001b[39;00m\n\u001b[0;32m   1097\u001b[0m     catalog \u001b[38;5;241m=\u001b[39m \u001b[38;5;28mself\u001b[39m\u001b[38;5;241m.\u001b[39mtrailer[TK\u001b[38;5;241m.\u001b[39mROOT]\u001b[38;5;241m.\u001b[39mget_object()\n\u001b[1;32m-> 1098\u001b[0m     pages \u001b[38;5;241m=\u001b[39m \u001b[43mcatalog\u001b[49m\u001b[43m[\u001b[49m\u001b[38;5;124;43m\"\u001b[39;49m\u001b[38;5;124;43m/Pages\u001b[39;49m\u001b[38;5;124;43m\"\u001b[39;49m\u001b[43m]\u001b[49m\u001b[38;5;241m.\u001b[39mget_object()  \u001b[38;5;66;03m# type: ignore\u001b[39;00m\n\u001b[0;32m   1099\u001b[0m     \u001b[38;5;28mself\u001b[39m\u001b[38;5;241m.\u001b[39mflattened_pages \u001b[38;5;241m=\u001b[39m []\n\u001b[0;32m   1101\u001b[0m t \u001b[38;5;241m=\u001b[39m \u001b[38;5;124m\"\u001b[39m\u001b[38;5;124m/Pages\u001b[39m\u001b[38;5;124m\"\u001b[39m\n",
      "File \u001b[1;32m~\\AppData\\Local\\Packages\\PythonSoftwareFoundation.Python.3.9_qbz5n2kfra8p0\\LocalCache\\local-packages\\Python39\\site-packages\\PyPDF2\\generic\\_data_structures.py:150\u001b[0m, in \u001b[0;36mDictionaryObject.__getitem__\u001b[1;34m(self, key)\u001b[0m\n\u001b[0;32m    149\u001b[0m \u001b[38;5;28;01mdef\u001b[39;00m \u001b[38;5;21m__getitem__\u001b[39m(\u001b[38;5;28mself\u001b[39m, key: Any) \u001b[38;5;241m-\u001b[39m\u001b[38;5;241m>\u001b[39m PdfObject:\n\u001b[1;32m--> 150\u001b[0m     \u001b[38;5;28;01mreturn\u001b[39;00m \u001b[38;5;28;43mdict\u001b[39;49m\u001b[38;5;241;43m.\u001b[39;49m\u001b[38;5;21;43m__getitem__\u001b[39;49m\u001b[43m(\u001b[49m\u001b[38;5;28;43mself\u001b[39;49m\u001b[43m,\u001b[49m\u001b[43m \u001b[49m\u001b[43mkey\u001b[49m\u001b[43m)\u001b[49m\u001b[38;5;241;43m.\u001b[39;49m\u001b[43mget_object\u001b[49m\u001b[43m(\u001b[49m\u001b[43m)\u001b[49m\n",
      "File \u001b[1;32m~\\AppData\\Local\\Packages\\PythonSoftwareFoundation.Python.3.9_qbz5n2kfra8p0\\LocalCache\\local-packages\\Python39\\site-packages\\PyPDF2\\generic\\_base.py:164\u001b[0m, in \u001b[0;36mIndirectObject.get_object\u001b[1;34m(self)\u001b[0m\n\u001b[0;32m    163\u001b[0m \u001b[38;5;28;01mdef\u001b[39;00m \u001b[38;5;21mget_object\u001b[39m(\u001b[38;5;28mself\u001b[39m) \u001b[38;5;241m-\u001b[39m\u001b[38;5;241m>\u001b[39m Optional[PdfObject]:\n\u001b[1;32m--> 164\u001b[0m     obj \u001b[38;5;241m=\u001b[39m \u001b[38;5;28;43mself\u001b[39;49m\u001b[38;5;241;43m.\u001b[39;49m\u001b[43mpdf\u001b[49m\u001b[38;5;241;43m.\u001b[39;49m\u001b[43mget_object\u001b[49m\u001b[43m(\u001b[49m\u001b[38;5;28;43mself\u001b[39;49m\u001b[43m)\u001b[49m\n\u001b[0;32m    165\u001b[0m     \u001b[38;5;28;01mif\u001b[39;00m obj \u001b[38;5;129;01mis\u001b[39;00m \u001b[38;5;28;01mNone\u001b[39;00m:\n\u001b[0;32m    166\u001b[0m         \u001b[38;5;28;01mreturn\u001b[39;00m \u001b[38;5;28;01mNone\u001b[39;00m\n",
      "File \u001b[1;32m~\\AppData\\Local\\Packages\\PythonSoftwareFoundation.Python.3.9_qbz5n2kfra8p0\\LocalCache\\local-packages\\Python39\\site-packages\\PyPDF2\\_reader.py:1201\u001b[0m, in \u001b[0;36mPdfReader.get_object\u001b[1;34m(self, indirect_reference)\u001b[0m\n\u001b[0;32m   1196\u001b[0m     \u001b[38;5;28;01mreturn\u001b[39;00m retval\n\u001b[0;32m   1197\u001b[0m \u001b[38;5;28;01mif\u001b[39;00m (\n\u001b[0;32m   1198\u001b[0m     indirect_reference\u001b[38;5;241m.\u001b[39mgeneration \u001b[38;5;241m==\u001b[39m \u001b[38;5;241m0\u001b[39m\n\u001b[0;32m   1199\u001b[0m     \u001b[38;5;129;01mand\u001b[39;00m indirect_reference\u001b[38;5;241m.\u001b[39midnum \u001b[38;5;129;01min\u001b[39;00m \u001b[38;5;28mself\u001b[39m\u001b[38;5;241m.\u001b[39mxref_objStm\n\u001b[0;32m   1200\u001b[0m ):\n\u001b[1;32m-> 1201\u001b[0m     retval \u001b[38;5;241m=\u001b[39m \u001b[38;5;28;43mself\u001b[39;49m\u001b[38;5;241;43m.\u001b[39;49m\u001b[43m_get_object_from_stream\u001b[49m\u001b[43m(\u001b[49m\u001b[43mindirect_reference\u001b[49m\u001b[43m)\u001b[49m  \u001b[38;5;66;03m# type: ignore\u001b[39;00m\n\u001b[0;32m   1202\u001b[0m \u001b[38;5;28;01melif\u001b[39;00m (\n\u001b[0;32m   1203\u001b[0m     indirect_reference\u001b[38;5;241m.\u001b[39mgeneration \u001b[38;5;129;01min\u001b[39;00m \u001b[38;5;28mself\u001b[39m\u001b[38;5;241m.\u001b[39mxref\n\u001b[0;32m   1204\u001b[0m     \u001b[38;5;129;01mand\u001b[39;00m indirect_reference\u001b[38;5;241m.\u001b[39midnum \u001b[38;5;129;01min\u001b[39;00m \u001b[38;5;28mself\u001b[39m\u001b[38;5;241m.\u001b[39mxref[indirect_reference\u001b[38;5;241m.\u001b[39mgeneration]\n\u001b[0;32m   1205\u001b[0m ):\n\u001b[0;32m   1206\u001b[0m     \u001b[38;5;28;01mif\u001b[39;00m \u001b[38;5;28mself\u001b[39m\u001b[38;5;241m.\u001b[39mxref_free_entry\u001b[38;5;241m.\u001b[39mget(indirect_reference\u001b[38;5;241m.\u001b[39mgeneration, {})\u001b[38;5;241m.\u001b[39mget(\n\u001b[0;32m   1207\u001b[0m         indirect_reference\u001b[38;5;241m.\u001b[39midnum, \u001b[38;5;28;01mFalse\u001b[39;00m\n\u001b[0;32m   1208\u001b[0m     ):\n",
      "File \u001b[1;32m~\\AppData\\Local\\Packages\\PythonSoftwareFoundation.Python.3.9_qbz5n2kfra8p0\\LocalCache\\local-packages\\Python39\\site-packages\\PyPDF2\\_reader.py:1132\u001b[0m, in \u001b[0;36mPdfReader._get_object_from_stream\u001b[1;34m(self, indirect_reference)\u001b[0m\n\u001b[0;32m   1126\u001b[0m \u001b[38;5;28;01mdef\u001b[39;00m \u001b[38;5;21m_get_object_from_stream\u001b[39m(\n\u001b[0;32m   1127\u001b[0m     \u001b[38;5;28mself\u001b[39m, indirect_reference: IndirectObject\n\u001b[0;32m   1128\u001b[0m ) \u001b[38;5;241m-\u001b[39m\u001b[38;5;241m>\u001b[39m Union[\u001b[38;5;28mint\u001b[39m, PdfObject, \u001b[38;5;28mstr\u001b[39m]:\n\u001b[0;32m   1129\u001b[0m     \u001b[38;5;66;03m# indirect reference to object in object stream\u001b[39;00m\n\u001b[0;32m   1130\u001b[0m     \u001b[38;5;66;03m# read the entire object stream into memory\u001b[39;00m\n\u001b[0;32m   1131\u001b[0m     stmnum, idx \u001b[38;5;241m=\u001b[39m \u001b[38;5;28mself\u001b[39m\u001b[38;5;241m.\u001b[39mxref_objStm[indirect_reference\u001b[38;5;241m.\u001b[39midnum]\n\u001b[1;32m-> 1132\u001b[0m     obj_stm: EncodedStreamObject \u001b[38;5;241m=\u001b[39m \u001b[43mIndirectObject\u001b[49m\u001b[43m(\u001b[49m\u001b[43mstmnum\u001b[49m\u001b[43m,\u001b[49m\u001b[43m \u001b[49m\u001b[38;5;241;43m0\u001b[39;49m\u001b[43m,\u001b[49m\u001b[43m \u001b[49m\u001b[38;5;28;43mself\u001b[39;49m\u001b[43m)\u001b[49m\u001b[38;5;241;43m.\u001b[39;49m\u001b[43mget_object\u001b[49m\u001b[43m(\u001b[49m\u001b[43m)\u001b[49m  \u001b[38;5;66;03m# type: ignore\u001b[39;00m\n\u001b[0;32m   1133\u001b[0m     \u001b[38;5;66;03m# This is an xref to a stream, so its type better be a stream\u001b[39;00m\n\u001b[0;32m   1134\u001b[0m     \u001b[38;5;28;01massert\u001b[39;00m cast(\u001b[38;5;28mstr\u001b[39m, obj_stm[\u001b[38;5;124m\"\u001b[39m\u001b[38;5;124m/Type\u001b[39m\u001b[38;5;124m\"\u001b[39m]) \u001b[38;5;241m==\u001b[39m \u001b[38;5;124m\"\u001b[39m\u001b[38;5;124m/ObjStm\u001b[39m\u001b[38;5;124m\"\u001b[39m\n",
      "File \u001b[1;32m~\\AppData\\Local\\Packages\\PythonSoftwareFoundation.Python.3.9_qbz5n2kfra8p0\\LocalCache\\local-packages\\Python39\\site-packages\\PyPDF2\\generic\\_base.py:164\u001b[0m, in \u001b[0;36mIndirectObject.get_object\u001b[1;34m(self)\u001b[0m\n\u001b[0;32m    163\u001b[0m \u001b[38;5;28;01mdef\u001b[39;00m \u001b[38;5;21mget_object\u001b[39m(\u001b[38;5;28mself\u001b[39m) \u001b[38;5;241m-\u001b[39m\u001b[38;5;241m>\u001b[39m Optional[PdfObject]:\n\u001b[1;32m--> 164\u001b[0m     obj \u001b[38;5;241m=\u001b[39m \u001b[38;5;28;43mself\u001b[39;49m\u001b[38;5;241;43m.\u001b[39;49m\u001b[43mpdf\u001b[49m\u001b[38;5;241;43m.\u001b[39;49m\u001b[43mget_object\u001b[49m\u001b[43m(\u001b[49m\u001b[38;5;28;43mself\u001b[39;49m\u001b[43m)\u001b[49m\n\u001b[0;32m    165\u001b[0m     \u001b[38;5;28;01mif\u001b[39;00m obj \u001b[38;5;129;01mis\u001b[39;00m \u001b[38;5;28;01mNone\u001b[39;00m:\n\u001b[0;32m    166\u001b[0m         \u001b[38;5;28;01mreturn\u001b[39;00m \u001b[38;5;28;01mNone\u001b[39;00m\n",
      "File \u001b[1;32m~\\AppData\\Local\\Packages\\PythonSoftwareFoundation.Python.3.9_qbz5n2kfra8p0\\LocalCache\\local-packages\\Python39\\site-packages\\PyPDF2\\_reader.py:1265\u001b[0m, in \u001b[0;36mPdfReader.get_object\u001b[1;34m(self, indirect_reference)\u001b[0m\n\u001b[0;32m   1263\u001b[0m         \u001b[38;5;66;03m# otherwise, decrypt here...\u001b[39;00m\n\u001b[0;32m   1264\u001b[0m         retval \u001b[38;5;241m=\u001b[39m cast(PdfObject, retval)\n\u001b[1;32m-> 1265\u001b[0m         retval \u001b[38;5;241m=\u001b[39m \u001b[38;5;28;43mself\u001b[39;49m\u001b[38;5;241;43m.\u001b[39;49m\u001b[43m_encryption\u001b[49m\u001b[38;5;241;43m.\u001b[39;49m\u001b[43mdecrypt_object\u001b[49m\u001b[43m(\u001b[49m\n\u001b[0;32m   1266\u001b[0m \u001b[43m            \u001b[49m\u001b[43mretval\u001b[49m\u001b[43m,\u001b[49m\u001b[43m \u001b[49m\u001b[43mindirect_reference\u001b[49m\u001b[38;5;241;43m.\u001b[39;49m\u001b[43midnum\u001b[49m\u001b[43m,\u001b[49m\u001b[43m \u001b[49m\u001b[43mindirect_reference\u001b[49m\u001b[38;5;241;43m.\u001b[39;49m\u001b[43mgeneration\u001b[49m\n\u001b[0;32m   1267\u001b[0m \u001b[43m        \u001b[49m\u001b[43m)\u001b[49m\n\u001b[0;32m   1268\u001b[0m \u001b[38;5;28;01melse\u001b[39;00m:\n\u001b[0;32m   1269\u001b[0m     \u001b[38;5;28;01mif\u001b[39;00m \u001b[38;5;28mhasattr\u001b[39m(\u001b[38;5;28mself\u001b[39m\u001b[38;5;241m.\u001b[39mstream, \u001b[38;5;124m\"\u001b[39m\u001b[38;5;124mgetbuffer\u001b[39m\u001b[38;5;124m\"\u001b[39m):\n",
      "File \u001b[1;32m~\\AppData\\Local\\Packages\\PythonSoftwareFoundation.Python.3.9_qbz5n2kfra8p0\\LocalCache\\local-packages\\Python39\\site-packages\\PyPDF2\\_encryption.py:761\u001b[0m, in \u001b[0;36mEncryption.decrypt_object\u001b[1;34m(self, obj, idnum, generation)\u001b[0m\n\u001b[0;32m    758\u001b[0m efCrypt \u001b[38;5;241m=\u001b[39m \u001b[38;5;28mself\u001b[39m\u001b[38;5;241m.\u001b[39m_get_crypt(\u001b[38;5;28mself\u001b[39m\u001b[38;5;241m.\u001b[39mEFF, rc4_key, aes128_key, aes256_key)\n\u001b[0;32m    760\u001b[0m cf \u001b[38;5;241m=\u001b[39m CryptFilter(stmCrypt, StrCrypt, efCrypt)\n\u001b[1;32m--> 761\u001b[0m \u001b[38;5;28;01mreturn\u001b[39;00m \u001b[43mcf\u001b[49m\u001b[38;5;241;43m.\u001b[39;49m\u001b[43mdecrypt_object\u001b[49m\u001b[43m(\u001b[49m\u001b[43mobj\u001b[49m\u001b[43m)\u001b[49m\n",
      "File \u001b[1;32m~\\AppData\\Local\\Packages\\PythonSoftwareFoundation.Python.3.9_qbz5n2kfra8p0\\LocalCache\\local-packages\\Python39\\site-packages\\PyPDF2\\_encryption.py:185\u001b[0m, in \u001b[0;36mCryptFilter.decrypt_object\u001b[1;34m(self, obj)\u001b[0m\n\u001b[0;32m    183\u001b[0m     obj \u001b[38;5;241m=\u001b[39m create_string_object(data)\n\u001b[0;32m    184\u001b[0m \u001b[38;5;28;01melif\u001b[39;00m \u001b[38;5;28misinstance\u001b[39m(obj, StreamObject):\n\u001b[1;32m--> 185\u001b[0m     obj\u001b[38;5;241m.\u001b[39m_data \u001b[38;5;241m=\u001b[39m \u001b[38;5;28;43mself\u001b[39;49m\u001b[38;5;241;43m.\u001b[39;49m\u001b[43mstmCrypt\u001b[49m\u001b[38;5;241;43m.\u001b[39;49m\u001b[43mdecrypt\u001b[49m\u001b[43m(\u001b[49m\u001b[43mobj\u001b[49m\u001b[38;5;241;43m.\u001b[39;49m\u001b[43m_data\u001b[49m\u001b[43m)\u001b[49m\n\u001b[0;32m    186\u001b[0m \u001b[38;5;28;01melif\u001b[39;00m \u001b[38;5;28misinstance\u001b[39m(obj, DictionaryObject):\n\u001b[0;32m    187\u001b[0m     \u001b[38;5;28;01mfor\u001b[39;00m dictkey, value \u001b[38;5;129;01min\u001b[39;00m \u001b[38;5;28mlist\u001b[39m(obj\u001b[38;5;241m.\u001b[39mitems()):\n",
      "File \u001b[1;32m~\\AppData\\Local\\Packages\\PythonSoftwareFoundation.Python.3.9_qbz5n2kfra8p0\\LocalCache\\local-packages\\Python39\\site-packages\\PyPDF2\\_encryption.py:147\u001b[0m, in \u001b[0;36mCryptAES.decrypt\u001b[1;34m(self, data)\u001b[0m\n\u001b[0;32m    146\u001b[0m \u001b[38;5;28;01mdef\u001b[39;00m \u001b[38;5;21mdecrypt\u001b[39m(\u001b[38;5;28mself\u001b[39m, data: \u001b[38;5;28mbytes\u001b[39m) \u001b[38;5;241m-\u001b[39m\u001b[38;5;241m>\u001b[39m \u001b[38;5;28mbytes\u001b[39m:\n\u001b[1;32m--> 147\u001b[0m     \u001b[38;5;28;01mraise\u001b[39;00m DependencyError(\u001b[38;5;124m\"\u001b[39m\u001b[38;5;124mPyCryptodome is required for AES algorithm\u001b[39m\u001b[38;5;124m\"\u001b[39m)\n",
      "\u001b[1;31mDependencyError\u001b[0m: PyCryptodome is required for AES algorithm"
     ]
    }
   ],
   "source": [
    "pages = [458, 459, 460]\n",
    "for each_pdf in pdf_list:\n",
    "    pdf_file_path = f\"{each_pdf}\"\n",
    "    #print(each_pdf)\n",
    "    file_base_name = pdf_file_path.replace('.pdf', '')\n",
    "    pdf = PdfFileReader(pdf_file_path)\n",
    "    pdfWriter = PdfFileWriter()\n",
    "    for page_num in pages:\n",
    "        pdfWriter.addPage(pdf.getPage(page_num))\n",
    "    with open('{each_pdf}_es.pdf'.format(file_base_name), 'wb') as f:\n",
    "        pdfWriter.write(f)\n",
    "        f.close()\n"
   ]
  },
  {
   "cell_type": "markdown",
   "id": "d0de6b92",
   "metadata": {},
   "source": [
    "Taking a break from this, we'll run each year individually to get ES pdfs.The code below is only working for some. I'll have to fix that up."
   ]
  },
  {
   "cell_type": "code",
   "execution_count": 76,
   "id": "2d9a1db2",
   "metadata": {},
   "outputs": [],
   "source": [
    "#for 2020\n",
    "pdf_file_path = 'mcps2019.pdf'\n",
    "file_base_name = pdf_file_path.replace('.pdf', '')\n",
    "\n",
    "pdf = PdfFileReader(pdf_file_path)\n",
    "pages = [458, 459, 460] # page 1, 3, 5\n",
    "pdfWriter = PdfFileWriter()\n",
    "\n",
    "for page_num in pages:\n",
    "    pdfWriter.addPage(pdf.getPage(page_num))\n",
    "with open('{0}_es.pdf'.format(file_base_name), 'wb') as f:\n",
    "    pdfWriter.write(f)\n",
    "    f.close()"
   ]
  },
  {
   "cell_type": "code",
   "execution_count": null,
   "id": "9eaf7109",
   "metadata": {},
   "outputs": [],
   "source": []
  },
  {
   "cell_type": "code",
   "execution_count": null,
   "id": "cc5bbbf4",
   "metadata": {},
   "outputs": [],
   "source": []
  },
  {
   "cell_type": "code",
   "execution_count": null,
   "id": "d80037c3",
   "metadata": {},
   "outputs": [],
   "source": []
  }
 ],
 "metadata": {
  "kernelspec": {
   "display_name": "Python 3 (ipykernel)",
   "language": "python",
   "name": "python3"
  },
  "language_info": {
   "codemirror_mode": {
    "name": "ipython",
    "version": 3
   },
   "file_extension": ".py",
   "mimetype": "text/x-python",
   "name": "python",
   "nbconvert_exporter": "python",
   "pygments_lexer": "ipython3",
   "version": "3.9.13"
  }
 },
 "nbformat": 4,
 "nbformat_minor": 5
}
